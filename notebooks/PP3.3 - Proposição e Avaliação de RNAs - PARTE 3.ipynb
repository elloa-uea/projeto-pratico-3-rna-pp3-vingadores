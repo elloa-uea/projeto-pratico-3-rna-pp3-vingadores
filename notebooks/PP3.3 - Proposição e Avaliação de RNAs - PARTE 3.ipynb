{
  "nbformat": 4,
  "nbformat_minor": 0,
  "metadata": {
    "kernelspec": {
      "display_name": "Python 3",
      "language": "python",
      "name": "python3"
    },
    "language_info": {
      "codemirror_mode": {
        "name": "ipython",
        "version": 3
      },
      "file_extension": ".py",
      "mimetype": "text/x-python",
      "name": "python",
      "nbconvert_exporter": "python",
      "pygments_lexer": "ipython3",
      "version": "3.8.3"
    },
    "colab": {
      "name": "P3.3 - Proposição e Avaliação de RNAs - PARTE 3.ipynb",
      "provenance": [],
      "collapsed_sections": [
        "epAj_u_OeoQL",
        "hUvEbDQzeoQS"
      ]
    },
    "accelerator": "TPU"
  },
  "cells": [
    {
      "cell_type": "markdown",
      "metadata": {
        "id": "BoTyvPUAeoQB"
      },
      "source": [
        "## Redes Neurais Artificiais 2020.1\n",
        "\n",
        "**Disciplina**: Redes Neurais Artificiais 2020.1  \n",
        "**Professora**: Elloá B. Guedes (ebgcosta@uea.edu.br)  \n",
        "**Github**: http://github.com/elloa  \n",
        "        \n",
        "\n",
        "Levando em conta a base de dados **_Forest Cover Type_**, esta terceira parte do Projeto Prático 3 diz respeito à proposição e avaliação de múltiplas redes neurais artificiais do tipo feedforward multilayer perceptron para o problema da classificação multi-classe da cobertura florestal em uma área do Roosevelt National Forest.\n",
        "\n"
      ]
    },
    {
      "cell_type": "markdown",
      "metadata": {
        "id": "hUvEbDQzeoQS"
      },
      "source": [
        "## Considerações Parciais\n",
        "\n",
        "1. É possível identificar uma rede com desempenho superior às demais?\n",
        "2. Qual estratégia mostrou-se mais producente para a obtenção de boas arquiteturas (Estratégia Própria ou Pirâmide Geométrica)? Por quê?\n",
        "3. Considerar os atributos categóricos trouxe melhorias? Justifique.\n",
        "4. Um número maior de épocas trouxe melhorias?\n",
        "5. Qual a maior dificuldade de resolução do problema proposto perante as RNAs?"
      ]
    },
    {
      "cell_type": "markdown",
      "metadata": {
        "id": "4K01iVzuUcEG"
      },
      "source": [
        "# Considerações parciais\n",
        "## 1. Sobre a superioridade de desempenho\n",
        "### Comparação entres as arquiteturas usando Pirâmide Geométrica\n",
        "É possivel identificar um grupo de redes que se destaca. As redes com ID 2 e 5 alternaram-se com os dois melhores acurácias e F1-Scores. Um destaque para a de id 3, que ficou em terceiro lugar em acurácia e F1-Score.\n",
        "\n",
        "Vale notar que para este treinamento foi utilizado menos épocas do que o proposto pela atividade, por conta do tempo de treinamento ser elevado.\n",
        "\n",
        "### Comparação entres as arquiteturas usando Estratégia Própria\n",
        "As arquiteturas de Estratégia Própria foram feiras pela equipe com base em discurssão e tomada de decisão, de tal forma que fosse abordado cenários do tipo \"o que acontece se eu colocar desse tal jeito...?\". Como resultado obtido, as melhores tiveram Acurácia e F1-Score muito próximos.\n",
        "\n",
        "## 2. Comparação: Estratégia Própria x Pirâmide Geométrica\n",
        "Observamos que as métricas das arquiteturas de Pirâmide Geométrica tiveram resultados levemente inferiores, mas que isso provavelmente se dá por conta de termos utilizado uma quantidade de épocas menores.\n",
        "\n",
        "## 4. Sobre o impacto no número de épocas\n",
        "Certamente o número de épocas afeta o resultado. Para realizar o trabalho, antes de rodar os treinamentos com o número de épocas proposto, rodamos com um número baixo épocas (para identificar mais rapidamente um possível erro). Os resultados preliminares, com a quantidade de épocas baixa, resultou em uma diferença bem grande em relação aos com o a quantidade de épocas propostas.\n",
        "\n",
        "\n",
        "## 5. Maior dificuldade com RNA\n",
        "A maior dificuldade foi o tempo de treinamento. Os exercícios demoravam mais de 7h para executar. Os membros da equipe deixavam o exercício rodando e iam dormir ou trabalhar, e torciam para não ter dado erro quando voltavam para olhar. \n",
        "\n",
        "Curiosidades: teve despertador no meio das madrugadas para checar o treinamento e mãe clicando no colab para evitar que perdesse a sessão."
      ]
    },
    {
      "cell_type": "code",
      "metadata": {
        "id": "iJz-_V33eoQT"
      },
      "source": [
        ""
      ],
      "execution_count": null,
      "outputs": []
    }
  ]
}